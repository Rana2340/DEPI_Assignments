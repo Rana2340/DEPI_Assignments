{
 "cells": [
  {
   "cell_type": "code",
   "execution_count": 59,
   "id": "15f28b23-de39-4f12-996d-10aaf3757c8d",
   "metadata": {},
   "outputs": [
    {
     "name": "stdout",
     "output_type": "stream",
     "text": [
      "[0, 1, 2, 3, 4, 5]\n"
     ]
    }
   ],
   "source": [
    "def merge_sort(list1, list2):\n",
    "    merge = list1 + list2\n",
    "    sort = []\n",
    "    for i in range(len(merge)):\n",
    "        small = min(merge)\n",
    "        sort.append(small)\n",
    "        merge.remove(small)\n",
    "    return sort\n",
    "\n",
    "list1 = [3, 1, 4]\n",
    "list2 = [2, 5, 0]\n",
    "output = merge_sort(list1, list2)\n",
    "print(output)\n"
   ]
  },
  {
   "cell_type": "code",
   "execution_count": 57,
   "id": "559723a2-e63b-488d-96ee-caa5e10f43a4",
   "metadata": {},
   "outputs": [
    {
     "name": "stdout",
     "output_type": "stream",
     "text": [
      "aaabbbccc\n"
     ]
    }
   ],
   "source": [
    "def chars(s, n):\n",
    "    c=''\n",
    "    for str in s:      \n",
    "        c+=str * n\n",
    "    return c\n",
    "s = \"abc\"\n",
    "n = 3\n",
    "result = chars(s, n)\n",
    "print(result)  \n"
   ]
  },
  {
   "cell_type": "code",
   "execution_count": null,
   "id": "4c3644d3-307b-4ed9-add0-f816d9fbe00f",
   "metadata": {},
   "outputs": [],
   "source": []
  }
 ],
 "metadata": {
  "kernelspec": {
   "display_name": "Python 3 (ipykernel)",
   "language": "python",
   "name": "python3"
  },
  "language_info": {
   "codemirror_mode": {
    "name": "ipython",
    "version": 3
   },
   "file_extension": ".py",
   "mimetype": "text/x-python",
   "name": "python",
   "nbconvert_exporter": "python",
   "pygments_lexer": "ipython3",
   "version": "3.12.4"
  }
 },
 "nbformat": 4,
 "nbformat_minor": 5
}
