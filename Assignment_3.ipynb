{
 "cells": [
  {
   "cell_type": "code",
   "execution_count": 3,
   "id": "b0fe183c-ad23-4cd3-a2bb-3eeabe2edcc9",
   "metadata": {},
   "outputs": [
    {
     "name": "stdout",
     "output_type": "stream",
     "text": [
      "num of vowels: 3\n"
     ]
    }
   ],
   "source": [
    "def count_vowels(str):\n",
    "    v=\"aeiou\"\n",
    "    c=0\n",
    "    for char in str.lower():\n",
    "        if char in v:\n",
    "            c+=1\n",
    "    return c\n",
    "text=\"Hello World\"\n",
    "print(\"num of vowels:\",count_vowels(text))"
   ]
  },
  {
   "cell_type": "code",
   "execution_count": 15,
   "id": "e3c07b43-867b-4e57-8e65-9ee0a54a2218",
   "metadata": {},
   "outputs": [
    {
     "name": "stdout",
     "output_type": "stream",
     "text": [
      "Maximum number is: None\n",
      "Maximum number is: 8\n"
     ]
    }
   ],
   "source": [
    "def find_max(num):\n",
    "    if len(num)==0:\n",
    "        return None\n",
    "    max=num[0]\n",
    "    for i in range(1,len(num)):\n",
    "        if num[i]>max:\n",
    "            max=num[i]\n",
    "    return max\n",
    "numbers=[3,5,2,8,1]\n",
    "n=[]\n",
    "print(\"Maximum number is:\",find_max(n))\n",
    "print(\"Maximum number is:\",find_max(numbers))"
   ]
  },
  {
   "cell_type": "code",
   "execution_count": null,
   "id": "0f812e63-441a-4ab5-9743-7b5b76d942be",
   "metadata": {},
   "outputs": [],
   "source": []
  }
 ],
 "metadata": {
  "kernelspec": {
   "display_name": "Python 3 (ipykernel)",
   "language": "python",
   "name": "python3"
  },
  "language_info": {
   "codemirror_mode": {
    "name": "ipython",
    "version": 3
   },
   "file_extension": ".py",
   "mimetype": "text/x-python",
   "name": "python",
   "nbconvert_exporter": "python",
   "pygments_lexer": "ipython3",
   "version": "3.12.4"
  }
 },
 "nbformat": 4,
 "nbformat_minor": 5
}
